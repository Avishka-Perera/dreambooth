{
 "cells": [
  {
   "cell_type": "markdown",
   "metadata": {},
   "source": [
    "# Variance vs $\\beta$ schedule"
   ]
  },
  {
   "cell_type": "code",
   "execution_count": null,
   "metadata": {},
   "outputs": [],
   "source": [
    "import numpy as np\n",
    "import matplotlib.pyplot as plt\n",
    "\n",
    "fig, ax = plt.subplots(1,2, figsize=[8,3])\n",
    "\n",
    "T=1000\n",
    "beta_sch=0.01*np.ones(T)\n",
    "var = 1-(1-beta_sch).cumprod()\n",
    "ax[0].plot(var)\n",
    "ax[0].set_title(\"Constant $\\\\beta$\")\n",
    "\n",
    "b_1 = 0.0001\n",
    "b_T = 0.02\n",
    "beta_sch = np.linspace(b_1, b_T, T)\n",
    "var = 1 - (1 - beta_sch).cumprod()\n",
    "ax[1].plot(var)\n",
    "ax[1].set_title(\"Linear schedule for $\\\\beta$\")\n",
    "\n",
    "plt.show()"
   ]
  },
  {
   "cell_type": "markdown",
   "metadata": {},
   "source": [
    "# Training Process"
   ]
  },
  {
   "cell_type": "code",
   "execution_count": null,
   "metadata": {},
   "outputs": [],
   "source": [
    "from PIL import Image\n",
    "import numpy as np\n",
    "import matplotlib.pyplot as plt\n",
    "\n",
    "image_path= \"data/dog/02.jpg\"\n",
    "im = np.array(Image.open(image_path))/255\n",
    "noise = np.random.randn(*im.shape)\n",
    "beta_sch = np.linspace(0.1, 0.2, 4)\n",
    "beta = beta_sch[0]\n",
    "noisy_im = np.sqrt(1-beta)*im+np.sqrt(beta)*noise\n",
    "noise_vis = (noise+0.5)\n",
    "\n",
    "fig, ax = plt.subplots(2,3,figsize=(12,8))\n",
    "ax[0][0].imshow(im)\n",
    "ax[0][1].imshow(noise_vis.clip(0,1))\n",
    "ax[0][2].imshow(noisy_im.clip(0,1))\n",
    "\n",
    "for i in range(3):\n",
    "    noise = np.random.randn(*im.shape)\n",
    "    beta = beta_sch[i+1]\n",
    "    noisy_im = np.sqrt(1 - beta) * noisy_im + np.sqrt(beta) * noise\n",
    "    ax[1][i].imshow(noisy_im.clip(0, 1))\n",
    "\n",
    "for a in ax:\n",
    "    for b in a:\n",
    "        b.axis(\"off\")\n",
    "\n",
    "plt.show()"
   ]
  },
  {
   "cell_type": "markdown",
   "metadata": {},
   "source": [
    "# Merge Images"
   ]
  },
  {
   "cell_type": "code",
   "execution_count": 6,
   "metadata": {},
   "outputs": [],
   "source": [
    "import os\n",
    "import numpy as np\n",
    "from PIL import Image\n",
    "import glob\n",
    "\n",
    "input_dir = \"imgs/img2img\"\n",
    "output_dir = \"imgs\"\n",
    "\n",
    "img_paths = sorted(glob.glob(f\"{input_dir}/**\"))\n",
    "\n",
    "row_width=5\n",
    "\n",
    "for start in range(0, len(img_paths), row_width):\n",
    "    imgs = [np.array(Image.open(p)) for p in img_paths[start:start+row_width]]\n",
    "    img = np.concatenate(imgs, axis=1)\n",
    "    im = Image.fromarray(img)\n",
    "    im.save(os.path.join(output_dir, f\"{start}.jpg\"))"
   ]
  }
 ],
 "metadata": {
  "kernelspec": {
   "display_name": "Python 3",
   "language": "python",
   "name": "python3"
  },
  "language_info": {
   "codemirror_mode": {
    "name": "ipython",
    "version": 3
   },
   "file_extension": ".py",
   "mimetype": "text/x-python",
   "name": "python",
   "nbconvert_exporter": "python",
   "pygments_lexer": "ipython3",
   "version": "3.10.13"
  }
 },
 "nbformat": 4,
 "nbformat_minor": 2
}
